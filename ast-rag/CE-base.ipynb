{
  "cells": [
    {
      "cell_type": "code",
      "execution_count": 1,
      "metadata": {
        "colab": {
          "base_uri": "https://localhost:8080/"
        },
        "id": "ANFwXx9HnNTT",
        "outputId": "06f504bd-3618-48e8-a3f5-5d7de277b500"
      },
      "outputs": [
        {
          "name": "stdout",
          "output_type": "stream",
          "text": [
            "Requirement already satisfied: chromadb in /Users/nachiket/workspace/github.com/Public/tux-to-go-poc/.venv/lib/python3.13/site-packages (1.1.1)\n",
            "Requirement already satisfied: google-generativeai in /Users/nachiket/workspace/github.com/Public/tux-to-go-poc/.venv/lib/python3.13/site-packages (0.8.5)\n",
            "Requirement already satisfied: pandas in /Users/nachiket/workspace/github.com/Public/tux-to-go-poc/.venv/lib/python3.13/site-packages (2.3.3)\n",
            "Requirement already satisfied: python-dotenv in /Users/nachiket/workspace/github.com/Public/tux-to-go-poc/.venv/lib/python3.13/site-packages (1.1.1)\n",
            "Requirement already satisfied: build>=1.0.3 in /Users/nachiket/workspace/github.com/Public/tux-to-go-poc/.venv/lib/python3.13/site-packages (from chromadb) (1.3.0)\n",
            "Requirement already satisfied: pydantic>=1.9 in /Users/nachiket/workspace/github.com/Public/tux-to-go-poc/.venv/lib/python3.13/site-packages (from chromadb) (2.11.10)\n",
            "Requirement already satisfied: pybase64>=1.4.1 in /Users/nachiket/workspace/github.com/Public/tux-to-go-poc/.venv/lib/python3.13/site-packages (from chromadb) (1.4.2)\n",
            "Requirement already satisfied: uvicorn>=0.18.3 in /Users/nachiket/workspace/github.com/Public/tux-to-go-poc/.venv/lib/python3.13/site-packages (from uvicorn[standard]>=0.18.3->chromadb) (0.37.0)\n",
            "Requirement already satisfied: numpy>=1.22.5 in /Users/nachiket/workspace/github.com/Public/tux-to-go-poc/.venv/lib/python3.13/site-packages (from chromadb) (2.3.3)\n",
            "Requirement already satisfied: posthog<6.0.0,>=2.4.0 in /Users/nachiket/workspace/github.com/Public/tux-to-go-poc/.venv/lib/python3.13/site-packages (from chromadb) (5.4.0)\n",
            "Requirement already satisfied: typing-extensions>=4.5.0 in /Users/nachiket/workspace/github.com/Public/tux-to-go-poc/.venv/lib/python3.13/site-packages (from chromadb) (4.15.0)\n",
            "Requirement already satisfied: onnxruntime>=1.14.1 in /Users/nachiket/workspace/github.com/Public/tux-to-go-poc/.venv/lib/python3.13/site-packages (from chromadb) (1.23.0)\n",
            "Requirement already satisfied: opentelemetry-api>=1.2.0 in /Users/nachiket/workspace/github.com/Public/tux-to-go-poc/.venv/lib/python3.13/site-packages (from chromadb) (1.37.0)\n",
            "Requirement already satisfied: opentelemetry-exporter-otlp-proto-grpc>=1.2.0 in /Users/nachiket/workspace/github.com/Public/tux-to-go-poc/.venv/lib/python3.13/site-packages (from chromadb) (1.37.0)\n",
            "Requirement already satisfied: opentelemetry-sdk>=1.2.0 in /Users/nachiket/workspace/github.com/Public/tux-to-go-poc/.venv/lib/python3.13/site-packages (from chromadb) (1.37.0)\n",
            "Requirement already satisfied: tokenizers>=0.13.2 in /Users/nachiket/workspace/github.com/Public/tux-to-go-poc/.venv/lib/python3.13/site-packages (from chromadb) (0.22.1)\n",
            "Requirement already satisfied: pypika>=0.48.9 in /Users/nachiket/workspace/github.com/Public/tux-to-go-poc/.venv/lib/python3.13/site-packages (from chromadb) (0.48.9)\n",
            "Requirement already satisfied: tqdm>=4.65.0 in /Users/nachiket/workspace/github.com/Public/tux-to-go-poc/.venv/lib/python3.13/site-packages (from chromadb) (4.67.1)\n",
            "Requirement already satisfied: overrides>=7.3.1 in /Users/nachiket/workspace/github.com/Public/tux-to-go-poc/.venv/lib/python3.13/site-packages (from chromadb) (7.7.0)\n",
            "Requirement already satisfied: importlib-resources in /Users/nachiket/workspace/github.com/Public/tux-to-go-poc/.venv/lib/python3.13/site-packages (from chromadb) (6.5.2)\n",
            "Requirement already satisfied: grpcio>=1.58.0 in /Users/nachiket/workspace/github.com/Public/tux-to-go-poc/.venv/lib/python3.13/site-packages (from chromadb) (1.75.1)\n",
            "Requirement already satisfied: bcrypt>=4.0.1 in /Users/nachiket/workspace/github.com/Public/tux-to-go-poc/.venv/lib/python3.13/site-packages (from chromadb) (5.0.0)\n",
            "Requirement already satisfied: typer>=0.9.0 in /Users/nachiket/workspace/github.com/Public/tux-to-go-poc/.venv/lib/python3.13/site-packages (from chromadb) (0.19.2)\n",
            "Requirement already satisfied: kubernetes>=28.1.0 in /Users/nachiket/workspace/github.com/Public/tux-to-go-poc/.venv/lib/python3.13/site-packages (from chromadb) (34.1.0)\n",
            "Requirement already satisfied: tenacity>=8.2.3 in /Users/nachiket/workspace/github.com/Public/tux-to-go-poc/.venv/lib/python3.13/site-packages (from chromadb) (9.1.2)\n",
            "Requirement already satisfied: pyyaml>=6.0.0 in /Users/nachiket/workspace/github.com/Public/tux-to-go-poc/.venv/lib/python3.13/site-packages (from chromadb) (6.0.3)\n",
            "Requirement already satisfied: mmh3>=4.0.1 in /Users/nachiket/workspace/github.com/Public/tux-to-go-poc/.venv/lib/python3.13/site-packages (from chromadb) (5.2.0)\n",
            "Requirement already satisfied: orjson>=3.9.12 in /Users/nachiket/workspace/github.com/Public/tux-to-go-poc/.venv/lib/python3.13/site-packages (from chromadb) (3.11.3)\n",
            "Requirement already satisfied: httpx>=0.27.0 in /Users/nachiket/workspace/github.com/Public/tux-to-go-poc/.venv/lib/python3.13/site-packages (from chromadb) (0.28.1)\n",
            "Requirement already satisfied: rich>=10.11.0 in /Users/nachiket/workspace/github.com/Public/tux-to-go-poc/.venv/lib/python3.13/site-packages (from chromadb) (14.1.0)\n",
            "Requirement already satisfied: jsonschema>=4.19.0 in /Users/nachiket/workspace/github.com/Public/tux-to-go-poc/.venv/lib/python3.13/site-packages (from chromadb) (4.25.1)\n",
            "Requirement already satisfied: requests<3.0,>=2.7 in /Users/nachiket/workspace/github.com/Public/tux-to-go-poc/.venv/lib/python3.13/site-packages (from posthog<6.0.0,>=2.4.0->chromadb) (2.32.5)\n",
            "Requirement already satisfied: six>=1.5 in /Users/nachiket/workspace/github.com/Public/tux-to-go-poc/.venv/lib/python3.13/site-packages (from posthog<6.0.0,>=2.4.0->chromadb) (1.17.0)\n",
            "Requirement already satisfied: python-dateutil>=2.2 in /Users/nachiket/workspace/github.com/Public/tux-to-go-poc/.venv/lib/python3.13/site-packages (from posthog<6.0.0,>=2.4.0->chromadb) (2.9.0.post0)\n",
            "Requirement already satisfied: backoff>=1.10.0 in /Users/nachiket/workspace/github.com/Public/tux-to-go-poc/.venv/lib/python3.13/site-packages (from posthog<6.0.0,>=2.4.0->chromadb) (2.2.1)\n",
            "Requirement already satisfied: distro>=1.5.0 in /Users/nachiket/workspace/github.com/Public/tux-to-go-poc/.venv/lib/python3.13/site-packages (from posthog<6.0.0,>=2.4.0->chromadb) (1.9.0)\n",
            "Requirement already satisfied: charset_normalizer<4,>=2 in /Users/nachiket/workspace/github.com/Public/tux-to-go-poc/.venv/lib/python3.13/site-packages (from requests<3.0,>=2.7->posthog<6.0.0,>=2.4.0->chromadb) (3.4.3)\n",
            "Requirement already satisfied: idna<4,>=2.5 in /Users/nachiket/workspace/github.com/Public/tux-to-go-poc/.venv/lib/python3.13/site-packages (from requests<3.0,>=2.7->posthog<6.0.0,>=2.4.0->chromadb) (3.10)\n",
            "Requirement already satisfied: urllib3<3,>=1.21.1 in /Users/nachiket/workspace/github.com/Public/tux-to-go-poc/.venv/lib/python3.13/site-packages (from requests<3.0,>=2.7->posthog<6.0.0,>=2.4.0->chromadb) (2.3.0)\n",
            "Requirement already satisfied: certifi>=2017.4.17 in /Users/nachiket/workspace/github.com/Public/tux-to-go-poc/.venv/lib/python3.13/site-packages (from requests<3.0,>=2.7->posthog<6.0.0,>=2.4.0->chromadb) (2025.10.5)\n",
            "Requirement already satisfied: google-ai-generativelanguage==0.6.15 in /Users/nachiket/workspace/github.com/Public/tux-to-go-poc/.venv/lib/python3.13/site-packages (from google-generativeai) (0.6.15)\n",
            "Requirement already satisfied: google-api-core in /Users/nachiket/workspace/github.com/Public/tux-to-go-poc/.venv/lib/python3.13/site-packages (from google-generativeai) (2.25.2)\n",
            "Requirement already satisfied: google-api-python-client in /Users/nachiket/workspace/github.com/Public/tux-to-go-poc/.venv/lib/python3.13/site-packages (from google-generativeai) (2.184.0)\n",
            "Requirement already satisfied: google-auth>=2.15.0 in /Users/nachiket/workspace/github.com/Public/tux-to-go-poc/.venv/lib/python3.13/site-packages (from google-generativeai) (2.41.1)\n",
            "Requirement already satisfied: protobuf in /Users/nachiket/workspace/github.com/Public/tux-to-go-poc/.venv/lib/python3.13/site-packages (from google-generativeai) (5.29.5)\n",
            "Requirement already satisfied: proto-plus<2.0.0dev,>=1.22.3 in /Users/nachiket/workspace/github.com/Public/tux-to-go-poc/.venv/lib/python3.13/site-packages (from google-ai-generativelanguage==0.6.15->google-generativeai) (1.26.1)\n",
            "Requirement already satisfied: googleapis-common-protos<2.0.0,>=1.56.2 in /Users/nachiket/workspace/github.com/Public/tux-to-go-poc/.venv/lib/python3.13/site-packages (from google-api-core->google-generativeai) (1.70.0)\n",
            "Requirement already satisfied: grpcio-status<2.0.0,>=1.33.2 in /Users/nachiket/workspace/github.com/Public/tux-to-go-poc/.venv/lib/python3.13/site-packages (from google-api-core[grpc]!=2.0.*,!=2.1.*,!=2.10.*,!=2.2.*,!=2.3.*,!=2.4.*,!=2.5.*,!=2.6.*,!=2.7.*,!=2.8.*,!=2.9.*,<3.0.0dev,>=1.34.1->google-ai-generativelanguage==0.6.15->google-generativeai) (1.71.2)\n",
            "Requirement already satisfied: cachetools<7.0,>=2.0.0 in /Users/nachiket/workspace/github.com/Public/tux-to-go-poc/.venv/lib/python3.13/site-packages (from google-auth>=2.15.0->google-generativeai) (6.2.0)\n",
            "Requirement already satisfied: pyasn1-modules>=0.2.1 in /Users/nachiket/workspace/github.com/Public/tux-to-go-poc/.venv/lib/python3.13/site-packages (from google-auth>=2.15.0->google-generativeai) (0.4.2)\n",
            "Requirement already satisfied: rsa<5,>=3.1.4 in /Users/nachiket/workspace/github.com/Public/tux-to-go-poc/.venv/lib/python3.13/site-packages (from google-auth>=2.15.0->google-generativeai) (4.9.1)\n",
            "Requirement already satisfied: pyasn1>=0.1.3 in /Users/nachiket/workspace/github.com/Public/tux-to-go-poc/.venv/lib/python3.13/site-packages (from rsa<5,>=3.1.4->google-auth>=2.15.0->google-generativeai) (0.6.1)\n",
            "Requirement already satisfied: pytz>=2020.1 in /Users/nachiket/workspace/github.com/Public/tux-to-go-poc/.venv/lib/python3.13/site-packages (from pandas) (2025.2)\n",
            "Requirement already satisfied: tzdata>=2022.7 in /Users/nachiket/workspace/github.com/Public/tux-to-go-poc/.venv/lib/python3.13/site-packages (from pandas) (2025.2)\n",
            "Requirement already satisfied: packaging>=19.1 in /Users/nachiket/workspace/github.com/Public/tux-to-go-poc/.venv/lib/python3.13/site-packages (from build>=1.0.3->chromadb) (25.0)\n",
            "Requirement already satisfied: pyproject_hooks in /Users/nachiket/workspace/github.com/Public/tux-to-go-poc/.venv/lib/python3.13/site-packages (from build>=1.0.3->chromadb) (1.2.0)\n",
            "Requirement already satisfied: anyio in /Users/nachiket/workspace/github.com/Public/tux-to-go-poc/.venv/lib/python3.13/site-packages (from httpx>=0.27.0->chromadb) (4.11.0)\n",
            "Requirement already satisfied: httpcore==1.* in /Users/nachiket/workspace/github.com/Public/tux-to-go-poc/.venv/lib/python3.13/site-packages (from httpx>=0.27.0->chromadb) (1.0.9)\n",
            "Requirement already satisfied: h11>=0.16 in /Users/nachiket/workspace/github.com/Public/tux-to-go-poc/.venv/lib/python3.13/site-packages (from httpcore==1.*->httpx>=0.27.0->chromadb) (0.16.0)\n",
            "Requirement already satisfied: attrs>=22.2.0 in /Users/nachiket/workspace/github.com/Public/tux-to-go-poc/.venv/lib/python3.13/site-packages (from jsonschema>=4.19.0->chromadb) (25.3.0)\n",
            "Requirement already satisfied: jsonschema-specifications>=2023.03.6 in /Users/nachiket/workspace/github.com/Public/tux-to-go-poc/.venv/lib/python3.13/site-packages (from jsonschema>=4.19.0->chromadb) (2025.9.1)\n",
            "Requirement already satisfied: referencing>=0.28.4 in /Users/nachiket/workspace/github.com/Public/tux-to-go-poc/.venv/lib/python3.13/site-packages (from jsonschema>=4.19.0->chromadb) (0.36.2)\n",
            "Requirement already satisfied: rpds-py>=0.7.1 in /Users/nachiket/workspace/github.com/Public/tux-to-go-poc/.venv/lib/python3.13/site-packages (from jsonschema>=4.19.0->chromadb) (0.27.1)\n",
            "Requirement already satisfied: websocket-client!=0.40.0,!=0.41.*,!=0.42.*,>=0.32.0 in /Users/nachiket/workspace/github.com/Public/tux-to-go-poc/.venv/lib/python3.13/site-packages (from kubernetes>=28.1.0->chromadb) (1.8.0)\n",
            "Requirement already satisfied: requests-oauthlib in /Users/nachiket/workspace/github.com/Public/tux-to-go-poc/.venv/lib/python3.13/site-packages (from kubernetes>=28.1.0->chromadb) (2.0.0)\n",
            "Requirement already satisfied: durationpy>=0.7 in /Users/nachiket/workspace/github.com/Public/tux-to-go-poc/.venv/lib/python3.13/site-packages (from kubernetes>=28.1.0->chromadb) (0.10)\n",
            "Requirement already satisfied: coloredlogs in /Users/nachiket/workspace/github.com/Public/tux-to-go-poc/.venv/lib/python3.13/site-packages (from onnxruntime>=1.14.1->chromadb) (15.0.1)\n",
            "Requirement already satisfied: flatbuffers in /Users/nachiket/workspace/github.com/Public/tux-to-go-poc/.venv/lib/python3.13/site-packages (from onnxruntime>=1.14.1->chromadb) (25.9.23)\n",
            "Requirement already satisfied: sympy in /Users/nachiket/workspace/github.com/Public/tux-to-go-poc/.venv/lib/python3.13/site-packages (from onnxruntime>=1.14.1->chromadb) (1.14.0)\n",
            "Requirement already satisfied: importlib-metadata<8.8.0,>=6.0 in /Users/nachiket/workspace/github.com/Public/tux-to-go-poc/.venv/lib/python3.13/site-packages (from opentelemetry-api>=1.2.0->chromadb) (8.7.0)\n",
            "Requirement already satisfied: zipp>=3.20 in /Users/nachiket/workspace/github.com/Public/tux-to-go-poc/.venv/lib/python3.13/site-packages (from importlib-metadata<8.8.0,>=6.0->opentelemetry-api>=1.2.0->chromadb) (3.23.0)\n",
            "Requirement already satisfied: opentelemetry-exporter-otlp-proto-common==1.37.0 in /Users/nachiket/workspace/github.com/Public/tux-to-go-poc/.venv/lib/python3.13/site-packages (from opentelemetry-exporter-otlp-proto-grpc>=1.2.0->chromadb) (1.37.0)\n",
            "Requirement already satisfied: opentelemetry-proto==1.37.0 in /Users/nachiket/workspace/github.com/Public/tux-to-go-poc/.venv/lib/python3.13/site-packages (from opentelemetry-exporter-otlp-proto-grpc>=1.2.0->chromadb) (1.37.0)\n",
            "Requirement already satisfied: opentelemetry-semantic-conventions==0.58b0 in /Users/nachiket/workspace/github.com/Public/tux-to-go-poc/.venv/lib/python3.13/site-packages (from opentelemetry-sdk>=1.2.0->chromadb) (0.58b0)\n",
            "Requirement already satisfied: annotated-types>=0.6.0 in /Users/nachiket/workspace/github.com/Public/tux-to-go-poc/.venv/lib/python3.13/site-packages (from pydantic>=1.9->chromadb) (0.7.0)\n",
            "Requirement already satisfied: pydantic-core==2.33.2 in /Users/nachiket/workspace/github.com/Public/tux-to-go-poc/.venv/lib/python3.13/site-packages (from pydantic>=1.9->chromadb) (2.33.2)\n",
            "Requirement already satisfied: typing-inspection>=0.4.0 in /Users/nachiket/workspace/github.com/Public/tux-to-go-poc/.venv/lib/python3.13/site-packages (from pydantic>=1.9->chromadb) (0.4.2)\n",
            "Requirement already satisfied: markdown-it-py>=2.2.0 in /Users/nachiket/workspace/github.com/Public/tux-to-go-poc/.venv/lib/python3.13/site-packages (from rich>=10.11.0->chromadb) (4.0.0)\n",
            "Requirement already satisfied: pygments<3.0.0,>=2.13.0 in /Users/nachiket/workspace/github.com/Public/tux-to-go-poc/.venv/lib/python3.13/site-packages (from rich>=10.11.0->chromadb) (2.19.2)\n",
            "Requirement already satisfied: mdurl~=0.1 in /Users/nachiket/workspace/github.com/Public/tux-to-go-poc/.venv/lib/python3.13/site-packages (from markdown-it-py>=2.2.0->rich>=10.11.0->chromadb) (0.1.2)\n",
            "Requirement already satisfied: huggingface-hub<2.0,>=0.16.4 in /Users/nachiket/workspace/github.com/Public/tux-to-go-poc/.venv/lib/python3.13/site-packages (from tokenizers>=0.13.2->chromadb) (0.35.3)\n",
            "Requirement already satisfied: filelock in /Users/nachiket/workspace/github.com/Public/tux-to-go-poc/.venv/lib/python3.13/site-packages (from huggingface-hub<2.0,>=0.16.4->tokenizers>=0.13.2->chromadb) (3.19.1)\n",
            "Requirement already satisfied: fsspec>=2023.5.0 in /Users/nachiket/workspace/github.com/Public/tux-to-go-poc/.venv/lib/python3.13/site-packages (from huggingface-hub<2.0,>=0.16.4->tokenizers>=0.13.2->chromadb) (2025.9.0)\n",
            "Requirement already satisfied: hf-xet<2.0.0,>=1.1.3 in /Users/nachiket/workspace/github.com/Public/tux-to-go-poc/.venv/lib/python3.13/site-packages (from huggingface-hub<2.0,>=0.16.4->tokenizers>=0.13.2->chromadb) (1.1.10)\n",
            "Requirement already satisfied: click>=8.0.0 in /Users/nachiket/workspace/github.com/Public/tux-to-go-poc/.venv/lib/python3.13/site-packages (from typer>=0.9.0->chromadb) (8.3.0)\n",
            "Requirement already satisfied: shellingham>=1.3.0 in /Users/nachiket/workspace/github.com/Public/tux-to-go-poc/.venv/lib/python3.13/site-packages (from typer>=0.9.0->chromadb) (1.5.4)\n",
            "Requirement already satisfied: httptools>=0.6.3 in /Users/nachiket/workspace/github.com/Public/tux-to-go-poc/.venv/lib/python3.13/site-packages (from uvicorn[standard]>=0.18.3->chromadb) (0.6.4)\n",
            "Requirement already satisfied: uvloop>=0.15.1 in /Users/nachiket/workspace/github.com/Public/tux-to-go-poc/.venv/lib/python3.13/site-packages (from uvicorn[standard]>=0.18.3->chromadb) (0.21.0)\n",
            "Requirement already satisfied: watchfiles>=0.13 in /Users/nachiket/workspace/github.com/Public/tux-to-go-poc/.venv/lib/python3.13/site-packages (from uvicorn[standard]>=0.18.3->chromadb) (1.1.0)\n",
            "Requirement already satisfied: websockets>=10.4 in /Users/nachiket/workspace/github.com/Public/tux-to-go-poc/.venv/lib/python3.13/site-packages (from uvicorn[standard]>=0.18.3->chromadb) (15.0.1)\n",
            "Requirement already satisfied: sniffio>=1.1 in /Users/nachiket/workspace/github.com/Public/tux-to-go-poc/.venv/lib/python3.13/site-packages (from anyio->httpx>=0.27.0->chromadb) (1.3.1)\n",
            "Requirement already satisfied: humanfriendly>=9.1 in /Users/nachiket/workspace/github.com/Public/tux-to-go-poc/.venv/lib/python3.13/site-packages (from coloredlogs->onnxruntime>=1.14.1->chromadb) (10.0)\n",
            "Requirement already satisfied: httplib2<1.0.0,>=0.19.0 in /Users/nachiket/workspace/github.com/Public/tux-to-go-poc/.venv/lib/python3.13/site-packages (from google-api-python-client->google-generativeai) (0.31.0)\n",
            "Requirement already satisfied: google-auth-httplib2<1.0.0,>=0.2.0 in /Users/nachiket/workspace/github.com/Public/tux-to-go-poc/.venv/lib/python3.13/site-packages (from google-api-python-client->google-generativeai) (0.2.0)\n",
            "Requirement already satisfied: uritemplate<5,>=3.0.1 in /Users/nachiket/workspace/github.com/Public/tux-to-go-poc/.venv/lib/python3.13/site-packages (from google-api-python-client->google-generativeai) (4.2.0)\n",
            "Requirement already satisfied: pyparsing<4,>=3.0.4 in /Users/nachiket/workspace/github.com/Public/tux-to-go-poc/.venv/lib/python3.13/site-packages (from httplib2<1.0.0,>=0.19.0->google-api-python-client->google-generativeai) (3.2.5)\n",
            "Requirement already satisfied: oauthlib>=3.0.0 in /Users/nachiket/workspace/github.com/Public/tux-to-go-poc/.venv/lib/python3.13/site-packages (from requests-oauthlib->kubernetes>=28.1.0->chromadb) (3.3.1)\n",
            "Requirement already satisfied: mpmath<1.4,>=1.1.0 in /Users/nachiket/workspace/github.com/Public/tux-to-go-poc/.venv/lib/python3.13/site-packages (from sympy->onnxruntime>=1.14.1->chromadb) (1.3.0)\n"
          ]
        }
      ],
      "source": [
        "!pip install chromadb google-generativeai pandas python-dotenv"
      ]
    },
    {
      "cell_type": "code",
      "execution_count": 2,
      "metadata": {
        "id": "GAnotNSNnYNh"
      },
      "outputs": [
        {
          "name": "stderr",
          "output_type": "stream",
          "text": [
            "/Users/nachiket/workspace/github.com/Public/tux-to-go-poc/.venv/lib/python3.13/site-packages/tqdm/auto.py:21: TqdmWarning: IProgress not found. Please update jupyter and ipywidgets. See https://ipywidgets.readthedocs.io/en/stable/user_install.html\n",
            "  from .autonotebook import tqdm as notebook_tqdm\n"
          ]
        }
      ],
      "source": [
        "import json\n",
        "import pandas as pd\n",
        "import chromadb\n",
        "import google.generativeai as genai\n",
        "import time\n",
        "import os\n",
        "from dotenv import load_dotenv\n"
      ]
    },
    {
      "cell_type": "code",
      "execution_count": 3,
      "metadata": {
        "id": "bOVlg9r-nks_"
      },
      "outputs": [],
      "source": [
        "load_dotenv()\n",
        "\n",
        "genai.configure(api_key=os.getenv(\"GEMINI_API_KEY\")) # Or set GOOGLE_API_KEY environment variable\n"
      ]
    },
    {
      "cell_type": "code",
      "execution_count": 4,
      "metadata": {
        "id": "EMswWkDTniH_"
      },
      "outputs": [
        {
          "name": "stdout",
          "output_type": "stream",
          "text": [
            "Loading and preparing documents...\n",
            "Loaded 99 documents.\n",
            "File: ../codebase/runMain.go\n",
            "Type: function\n",
            "Signature: func parseFile(path string, encoder *json.Encoder)\n",
            "Body: \n",
            "\tfset := token.NewFileSet()\n",
            "\tfileBytes, err := os.ReadFile(path)\n",
            "\tif err != nil {\n",
            "\t\tfmt.Printf(\"Warning: could not read file %s: %v\\n\", path, err)\n",
            "\t\treturn\n",
            "\t}\n",
            "\n",
            "\tnode, err := parser.ParseFile(fset, path, fileBytes, parser.ParseComments)\n",
            "\tif err != nil {\n",
            "\t\tfmt.Printf(\"Warning: could not parse file %s: %v\\n\", path, err)\n",
            "\t\treturn\n",
            "\t}\n",
            "\n",
            "\tast.Inspect(node, func(n ast.Node) bool {\n",
            "\t\t// 2. MODIFICATION: Use a type switch to handle different declaration types.\n",
            "\t\tswitch decl := n.(type) {\n",
            "\t\tcase *ast.FuncDecl:\n",
            "\t\t\t// Handle function declarations\n",
            "\t\t\tif decl.Body == nil {\n",
            "\t\t\t\treturn true // Skip function declarations without a body (e.g., in interfaces)\n",
            "\t\t\t}\n",
            "\n",
            "\t\t\tfuncMeta := FunctionMetadata{\n",
            "\t\t\t\tName:       decl.Name.Name,\n",
            "\t\t\t\tParameters: extractFields(decl.Type.Params, fileBytes),\n",
            "\t\t\t\tReturns:    extractFields(decl.Type.Results, fileBytes),\n",
            "\t\t\t\tBody:       string(fileBytes[decl.Body.Lbrace : decl.Body.Rbrace+1]),\n",
            "\t\t\t}\n",
            "\t\t\tfuncMeta.Signature = buildSignature(funcMeta)\n",
            "\n",
            "\t\t\tmetadata := CodeMetadata{\n",
            "\t\t\t\tType:     \"function\",\n",
            "\t\t\t\tFilePath: path,\n",
            "\t\t\t\tFunction: &funcMeta,\n",
            "\t\t\t}\n",
            "\n",
            "\t\t\tif err := encoder.Encode(metadata); err != nil {\n",
            "\t\t\t\tfmt.Printf(\"Warning: failed to encode function metadata for %s in %s: %v\\n\", funcMeta.Name, path, err)\n",
            "\t\t\t}\n",
            "\n",
            "\t\tcase *ast.GenDecl:\n",
            "\t\t\t// Handle generic declarations (for types, constants, vars)\n",
            "\t\t\tif decl.Tok == token.TYPE {\n",
            "\t\t\t\tfor _, spec := range decl.Specs {\n",
            "\t\t\t\t\tif typeSpec, ok := spec.(*ast.TypeSpec); ok {\n",
            "\t\t\t\t\t\tif structType, ok := typeSpec.Type.(*ast.StructType); ok {\n",
            "\t\t\t\t\t\t\t// We found a struct definition!\n",
            "\t\t\t\t\t\t\tstructMeta := StructMetadata{\n",
            "\t\t\t\t\t\t\t\tName:   typeSpec.Name.Name,\n",
            "\t\t\t\t\t\t\t\tFields: extractFields(structType.Fields, fileBytes),\n",
            "\t\t\t\t\t\t\t}\n",
            "\n",
            "\t\t\t\t\t\t\tmetadata := CodeMetadata{\n",
            "\t\t\t\t\t\t\t\tType:     \"struct\",\n",
            "\t\t\t\t\t\t\t\tFilePath: path,\n",
            "\t\t\t\t\t\t\t\tStruct:   &structMeta,\n",
            "\t\t\t\t\t\t\t}\n",
            "\n",
            "\t\t\t\t\t\t\tif err := encoder.Encode(metadata); err != nil {\n",
            "\t\t\t\t\t\t\t\tfmt.Printf(\"Warning: failed to encode struct metadata for %s in %s: %v\\n\", structMeta.Name, path, err)\n",
            "\t\t\t\t\t\t\t}\n",
            "\t\t\t\t\t\t}\n",
            "\t\t\t\t\t}\n",
            "\t\t\t\t}\n",
            "\t\t\t}\n",
            "\t\t}\n",
            "\t\treturn true\n",
            "\t})\n",
            "}\n",
            "\n"
          ]
        }
      ],
      "source": [
        "def load_and_prepare_docs(filepath=\"codebase_map.jsonl\"):\n",
        "    \"\"\"Loads the JSONL file and formats each entry for embedding.\"\"\"\n",
        "    documents = []\n",
        "    metadata = []\n",
        "    ids = []\n",
        "    with open(filepath, 'r') as f:\n",
        "        for i, line in enumerate(f):\n",
        "            data = json.loads(line)\n",
        "            content = \"\"\n",
        "\n",
        "            # This part is the fix: creating a simple dictionary\n",
        "            simple_meta = {\n",
        "                \"file_path\": data.get(\"file_path\", \"\"),\n",
        "                \"type\": data.get(\"type\", \"\")\n",
        "            }\n",
        "\n",
        "            if data['type'] == 'function':\n",
        "                func = data.get('function', {})\n",
        "                content = f\"File: {data['file_path']}\\nType: function\\nSignature: {func.get('signature', '')}\\nBody: {func.get('body', '')}\"\n",
        "                simple_meta[\"name\"] = func.get(\"name\", \"\")\n",
        "            elif data['type'] == 'struct':\n",
        "                struct = data.get('struct', {})\n",
        "                fields_str = \"\\n\".join([f\"  {field.get('name', '')} {field.get('type', '')} `{field.get('tag', '')}`\" for field in struct.get('fields', [])])\n",
        "                content = f\"File: {data['file_path']}\\nType: struct\\nName: {struct.get('name', '')}\\nFields:\\n{fields_str}\"\n",
        "                simple_meta[\"name\"] = struct.get(\"name\", \"\")\n",
        "\n",
        "            documents.append(content)\n",
        "            metadata.append(simple_meta) # We append the simple metadata here\n",
        "            ids.append(str(i + 1))\n",
        "\n",
        "    return documents, metadata, ids\n",
        "\n",
        "print(\"Loading and preparing documents...\")\n",
        "documents, metadata, ids = load_and_prepare_docs()\n",
        "print(f\"Loaded {len(documents)} documents.\")\n",
        "# Example of a prepared document:\n",
        "print(documents[5])"
      ]
    },
    {
      "cell_type": "markdown",
      "metadata": {
        "id": "P8uwX1gOoLoV"
      },
      "source": [
        "Embed and Store in VectorDB"
      ]
    },
    {
      "cell_type": "code",
      "execution_count": 5,
      "metadata": {
        "colab": {
          "base_uri": "https://localhost:8080/",
          "height": 507
        },
        "id": "MdskTfP6n7RM",
        "outputId": "079de2cf-65c9-4b2e-b1d4-b2453e6add13"
      },
      "outputs": [
        {
          "name": "stdout",
          "output_type": "stream",
          "text": [
            "Deleted existing collection: 'gocodebase'\n",
            "Created a new collection: 'gocodebase'\n",
            "Embedding and indexing the codebase... This may take a moment.\n"
          ]
        },
        {
          "name": "stderr",
          "output_type": "stream",
          "text": [
            "WARNING: All log messages before absl::InitializeLog() is called are written to STDERR\n",
            "E0000 00:00:1759672845.326794 4447472 alts_credentials.cc:93] ALTS creds ignored. Not running on GCP and untrusted ALTS is not enabled.\n"
          ]
        },
        {
          "name": "stdout",
          "output_type": "stream",
          "text": [
            "Indexed batch 1...\n",
            "Indexed batch 2...\n",
            "Codebase successfully indexed in ChromaDB.\n",
            "The collection now has 99 items.\n"
          ]
        }
      ],
      "source": [
        "# Initialize ChromaDB client.\n",
        "client = chromadb.PersistentClient(path=\"./chroma_db\")\n",
        "collection_name = \"gocodebase\"\n",
        "\n",
        "# 1. Delete the collection if it already exists to ensure a fresh start\n",
        "if collection_name in [c.name for c in client.list_collections()]:\n",
        "    client.delete_collection(name=collection_name)\n",
        "    print(f\"Deleted existing collection: '{collection_name}'\")\n",
        "\n",
        "# 2. Create a new, empty collection\n",
        "collection = client.create_collection(name=collection_name)\n",
        "print(f\"Created a new collection: '{collection_name}'\")\n",
        "\n",
        "# 3. Index the documents (this code now runs every time)\n",
        "print(\"Embedding and indexing the codebase... This may take a moment.\")\n",
        "batch_size = 50 # Increased batch size for efficiency\n",
        "for i in range(0, len(documents), batch_size):\n",
        "    batch_docs = documents[i:i+batch_size]\n",
        "    batch_ids = ids[i:i+batch_size]\n",
        "    batch_meta = metadata[i:i+batch_size]\n",
        "\n",
        "    response = genai.embed_content(\n",
        "        model=\"models/text-embedding-004\",\n",
        "        content=batch_docs,\n",
        "        task_type=\"RETRIEVAL_DOCUMENT\"\n",
        "    )\n",
        "    embeddings = response['embedding']\n",
        "\n",
        "    collection.add(\n",
        "        embeddings=embeddings,\n",
        "        documents=batch_docs,\n",
        "        metadatas=batch_meta,\n",
        "        ids=batch_ids\n",
        "    )\n",
        "    print(f\"Indexed batch {i//batch_size + 1}...\")\n",
        "    time.sleep(1) # Reduced sleep time\n",
        "\n",
        "print(\"Codebase successfully indexed in ChromaDB.\")\n",
        "item_count = collection.count()\n",
        "print(f\"The collection now has {item_count} items.\")"
      ]
    },
    {
      "cell_type": "code",
      "execution_count": 6,
      "metadata": {
        "colab": {
          "base_uri": "https://localhost:8080/"
        },
        "id": "gngjvdRV0c2p",
        "outputId": "e6278290-3b5b-4834-a0da-661e26721ac7"
      },
      "outputs": [
        {
          "name": "stdout",
          "output_type": "stream",
          "text": [
            "The collection 'gocodebase' has 99 items.\n",
            "\n",
            "Here's a sample of the data in the collection:\n",
            "['File: ../codebase/runMain.go\\nType: struct\\nName: Field\\nFields:\\n  Name string `json:\"name\"`\\n  Type string `json:\"type\"`\\n  Tag string `json:\"tag,omitempty\"`', 'File: ../codebase/runMain.go\\nType: struct\\nName: FunctionMetadata\\nFields:\\n  Name string `json:\"name\"`\\n  Signature string `json:\"signature\"`\\n  Parameters []Field `json:\"parameters\"`\\n  Returns []Field `json:\"returns\"`\\n  Body string `json:\"body\"`']\n"
          ]
        }
      ],
      "source": [
        "# Add this cell to verify the contents of your ChromaDB collection\n",
        "client = chromadb.PersistentClient(path=\"./chroma_db\")\n",
        "try:\n",
        "    collection = client.get_collection(name=\"gocodebase\")\n",
        "    item_count = collection.count()\n",
        "    print(f\"The collection '{collection.name}' has {item_count} items.\")\n",
        "\n",
        "    if item_count > 0:\n",
        "        print(\"\\nHere's a sample of the data in the collection:\")\n",
        "        # Peek at the first 2 items to ensure they look correct\n",
        "        sample = collection.peek(limit=2)\n",
        "        print(sample['documents'])\n",
        "except ValueError:\n",
        "    print(\"The collection 'gocodebase' does not exist. Please run the indexing cell first.\")"
      ]
    },
    {
      "cell_type": "markdown",
      "metadata": {
        "id": "oF6s3jRWq6Rt"
      },
      "source": [
        "Take request, find relevent snippets from chroma nad pass to generative model"
      ]
    },
    {
      "cell_type": "code",
      "execution_count": 7,
      "metadata": {
        "id": "m75Ldeinq4Nc"
      },
      "outputs": [],
      "source": [
        "def query_rag(query: str, n_results: int = 5):\n",
        "    \"\"\"Performs the RAG process: query -> retrieve -> augment -> generate.\"\"\"\n",
        "\n",
        "    # 1. Retrieve relevant code snippets\n",
        "    # Embed the user's query\n",
        "    query_embedding_response = genai.embed_content(\n",
        "        model=\"models/text-embedding-004\",\n",
        "        content=query,\n",
        "        task_type=\"RETRIEVAL_QUERY\"\n",
        "    )\n",
        "\n",
        "    # Search ChromaDB for the most similar documents\n",
        "    results = collection.query(\n",
        "        query_embeddings=[query_embedding_response['embedding']],\n",
        "        n_results=n_results\n",
        "    )\n",
        "\n",
        "    # Print the results from ChromaDB for debugging\n",
        "    print(\"ChromaDB query results:\")\n",
        "    print(results)\n",
        "    print(\"---\")\n",
        "\n",
        "    retrieved_docs = results['documents'][0] if results and results['documents'] and results['documents'][0] else []\n",
        "    context = \"\\n---\\n\".join(retrieved_docs)\n",
        "\n",
        "\n",
        "    # 2. Augment: Create a prompt for the generative model\n",
        "    prompt = f\"\"\"You are an expert Go programmer. Your task is to help a user modify their codebase.\n",
        "Use the following relevant code snippets from the codebase as context to provide a complete and accurate answer.Acknowledge the lack of code snippets if there is none.\n",
        "\n",
        "**CONTEXT FROM THE CODEBASE:**\n",
        "---\n",
        "{context}\n",
        "---\n",
        "\n",
        "**USER'S REQUEST:**\n",
        "\"{query}\"\n",
        "\n",
        "**YOUR TASK:**\n",
        "Based on the user's request and the provided context, generate the necessary code changes.\n",
        "- If a struct needs modification, show the new struct definition.\n",
        "- If a function needs to be changed, provide the complete, updated function body.\n",
        "- If new functions are needed, write them.\n",
        "- Provide a brief, clear explanation of the changes you made.\n",
        "- Present the final output in Go code blocks.\n",
        "\"\"\"\n",
        "    if context == \"\":\n",
        "        return \"no context\"\n",
        "    # 3. Generate the response\n",
        "    model = genai.GenerativeModel('gemini-2.0-flash')\n",
        "    response = model.generate_content(prompt)\n",
        "\n",
        "    return response.text"
      ]
    },
    {
      "cell_type": "markdown",
      "metadata": {
        "id": "lJNPYuOqrQH6"
      },
      "source": [
        "Giving request\n"
      ]
    },
    {
      "cell_type": "code",
      "execution_count": 8,
      "metadata": {
        "colab": {
          "base_uri": "https://localhost:8080/",
          "height": 126
        },
        "id": "JA4ZR9YzoUKL",
        "outputId": "9a1f7f51-4f2d-4d05-e329-3c7f85608bf9"
      },
      "outputs": [
        {
          "name": "stdout",
          "output_type": "stream",
          "text": [
            "ChromaDB query results:\n",
            "{'ids': [['17', '10', '16', '48', '86']], 'embeddings': None, 'documents': [['File: ../handler_chirps_get.go\\nType: function\\nSignature: func handlerChirpsRetrieve(w http.ResponseWriter, r *http.Request)\\nBody: \\n\\tdbChirps, err := cfg.db.GetChirps(r.Context())\\n\\tif err != nil {\\n\\t\\trespondWithError(w, http.StatusInternalServerError, \"Couldn\\'t retrieve chirps\", err)\\n\\t\\treturn\\n\\t}\\n\\n\\tchirps := []Chirp{}\\n\\tfor _, dbChirp := range dbChirps {\\n\\t\\tchirps = append(chirps, Chirp{\\n\\t\\t\\tID:        dbChirp.ID,\\n\\t\\t\\tCreatedAt: dbChirp.CreatedAt,\\n\\t\\t\\tUpdatedAt: dbChirp.UpdatedAt,\\n\\t\\t\\tUserID:    dbChirp.UserID,\\n\\t\\t\\tBody:      dbChirp.Body,\\n\\t\\t})\\n\\t}\\n\\n\\trespondWithJSON(w, http.StatusOK, chirps)\\n}\\n', 'File: ../handler_chirps_create.go\\nType: struct\\nName: Chirp\\nFields:\\n  ID uuid.UUID `json:\"id\"`\\n  CreatedAt time.Time `json:\"created_at\"`\\n  UpdatedAt time.Time `json:\"updated_at\"`\\n  UserID uuid.UUID `json:\"user_id\"`\\n  Body string `json:\"body\"`', 'File: ../handler_chirps_get.go\\nType: function\\nSignature: func handlerChirpsGet(w http.ResponseWriter, r *http.Request)\\nBody: \\n\\tchirpIDString := r.PathValue(\"chirpID\")\\n\\tchirpID, err := uuid.Parse(chirpIDString)\\n\\tif err != nil {\\n\\t\\trespondWithError(w, http.StatusBadRequest, \"Invalid chirp ID\", err)\\n\\t\\treturn\\n\\t}\\n\\n\\tdbChirp, err := cfg.db.GetChirp(r.Context(), chirpID)\\n\\tif err != nil {\\n\\t\\trespondWithError(w, http.StatusNotFound, \"Couldn\\'t get chirp\", err)\\n\\t\\treturn\\n\\t}\\n\\n\\trespondWithJSON(w, http.StatusOK, Chirp{\\n\\t\\tID:        dbChirp.ID,\\n\\t\\tCreatedAt: dbChirp.CreatedAt,\\n\\t\\tUpdatedAt: dbChirp.UpdatedAt,\\n\\t\\tUserID:    dbChirp.UserID,\\n\\t\\tBody:      dbChirp.Body,\\n\\t})\\n}\\n', 'File: ../internal/database/models.go\\nType: struct\\nName: Chirp\\nFields:\\n  ID uuid.UUID ``\\n  CreatedAt time.Time ``\\n  UpdatedAt time.Time ``\\n  Body string ``\\n  UserID uuid.UUID ``', 'File: ../internal/database/models.go\\nType: struct\\nName: Chirp\\nFields:\\n  ID uuid.UUID ``\\n  CreatedAt time.Time ``\\n  UpdatedAt time.Time ``\\n  Body string ``\\n  UserID uuid.UUID ``']], 'uris': None, 'included': ['metadatas', 'documents', 'distances'], 'data': None, 'metadatas': [[{'name': 'handlerChirpsRetrieve', 'file_path': '../handler_chirps_get.go', 'type': 'function'}, {'file_path': '../handler_chirps_create.go', 'name': 'Chirp', 'type': 'struct'}, {'type': 'function', 'file_path': '../handler_chirps_get.go', 'name': 'handlerChirpsGet'}, {'name': 'Chirp', 'file_path': '../internal/database/models.go', 'type': 'struct'}, {'file_path': '../internal/database/models.go', 'name': 'Chirp', 'type': 'struct'}]], 'distances': [[0.6429628729820251, 0.6467766165733337, 0.6722289323806763, 0.687321126461029, 0.687321126461029]]}\n",
            "---\n",
            "--- SUGGESTED CODE CHANGE ---\n",
            "Okay, I can help with that. Here's how to add a `likes` count to the `Chirp` model and update the `handlerChirpsCreate` function accordingly.\n",
            "\n",
            "**Explanation:**\n",
            "\n",
            "1.  **Update the `Chirp` struct:**  We need to add a `Likes` field (an integer) to both the internal database `Chirp` struct and the handler's `Chirp` struct.\n",
            "\n",
            "2.  **Update `handlerChirpsGet` and `handlerChirpsRetrieve`:** To fully implement the changes, we need to also modify the get handlers to include the likes.\n",
            "\n",
            "**Code Changes:**\n",
            "\n",
            "```go\n",
            "// ../internal/database/models.go\n",
            "type Chirp struct {\n",
            "\tID        uuid.UUID\n",
            "\tCreatedAt time.Time\n",
            "\tUpdatedAt time.Time\n",
            "\tBody      string\n",
            "\tUserID    uuid.UUID\n",
            "\tLikes     int\n",
            "}\n",
            "```\n",
            "\n",
            "```go\n",
            "// ../handler_chirps_create.go\n",
            "type Chirp struct {\n",
            "\tID        uuid.UUID `json:\"id\"`\n",
            "\tCreatedAt time.Time `json:\"created_at\"`\n",
            "\tUpdatedAt time.Time `json:\"updated_at\"`\n",
            "\tUserID    uuid.UUID `json:\"user_id\"`\n",
            "\tBody      string    `json:\"body\"`\n",
            "\tLikes     int       `json:\"likes\"`\n",
            "}\n",
            "```\n",
            "\n",
            "```go\n",
            "// ../handler_chirps_get.go\n",
            "type Chirp struct {\n",
            "\tID        uuid.UUID `json:\"id\"`\n",
            "\tCreatedAt time.Time `json:\"created_at\"`\n",
            "\tUpdatedAt time.Time `json:\"updated_at\"`\n",
            "\tUserID    uuid.UUID `json:\"user_id\"`\n",
            "\tBody      string    `json:\"body\"`\n",
            "\tLikes     int       `json:\"likes\"`\n",
            "}\n",
            "```\n",
            "\n",
            "```go\n",
            "// ../handler_chirps_get.go\n",
            "func handlerChirpsGet(w http.ResponseWriter, r *http.Request) {\n",
            "\tchirpIDString := r.PathValue(\"chirpID\")\n",
            "\tchirpID, err := uuid.Parse(chirpIDString)\n",
            "\tif err != nil {\n",
            "\t\trespondWithError(w, http.StatusBadRequest, \"Invalid chirp ID\", err)\n",
            "\t\treturn\n",
            "\t}\n",
            "\n",
            "\tdbChirp, err := cfg.db.GetChirp(r.Context(), chirpID)\n",
            "\tif err != nil {\n",
            "\t\trespondWithError(w, http.StatusNotFound, \"Couldn't get chirp\", err)\n",
            "\t\treturn\n",
            "\t}\n",
            "\n",
            "\trespondWithJSON(w, http.StatusOK, Chirp{\n",
            "\t\tID:        dbChirp.ID,\n",
            "\t\tCreatedAt: dbChirp.CreatedAt,\n",
            "\t\tUpdatedAt: dbChirp.UpdatedAt,\n",
            "\t\tUserID:    dbChirp.UserID,\n",
            "\t\tBody:      dbChirp.Body,\n",
            "\t\tLikes:     dbChirp.Likes, // Include the likes field\n",
            "\t})\n",
            "}\n",
            "```\n",
            "\n",
            "```go\n",
            "// ../handler_chirps_get.go\n",
            "func handlerChirpsRetrieve(w http.ResponseWriter, r *http.Request) {\n",
            "\tdbChirps, err := cfg.db.GetChirps(r.Context())\n",
            "\tif err != nil {\n",
            "\t\trespondWithError(w, http.StatusInternalServerError, \"Couldn't retrieve chirps\", err)\n",
            "\t\treturn\n",
            "\t}\n",
            "\n",
            "\tchirps := []Chirp{}\n",
            "\tfor _, dbChirp := range dbChirps {\n",
            "\t\tchirps = append(chirps, Chirp{\n",
            "\t\t\tID:        dbChirp.ID,\n",
            "\t\t\tCreatedAt: dbChirp.CreatedAt,\n",
            "\t\t\tUpdatedAt: dbChirp.UpdatedAt,\n",
            "\t\t\tUserID:    dbChirp.UserID,\n",
            "\t\t\tBody:      dbChirp.Body,\n",
            "\t\t\tLikes:     dbChirp.Likes, // Include the likes field\n",
            "\t\t})\n",
            "\t}\n",
            "\n",
            "\trespondWithJSON(w, http.StatusOK, chirps)\n",
            "}\n",
            "```\n"
          ]
        }
      ],
      "source": [
        "user_request = \"\"\"\n",
        "I need to add a 'likes' count to the Chirp model.\n",
        "It should be an integer and default to 0.\n",
        "\n",
        "Then, update the 'handlerChirpsCreate' function. After creating a chirp,\n",
        "the response should include this new 'likes' field.\n",
        "\"\"\"\n",
        "\n",
        "# Get the suggested code change\n",
        "suggested_change = query_rag(user_request)\n",
        "\n",
        "# Print the result\n",
        "print(\"--- SUGGESTED CODE CHANGE ---\")\n",
        "print(suggested_change)"
      ]
    },
    {
      "cell_type": "code",
      "execution_count": 9,
      "metadata": {
        "colab": {
          "base_uri": "https://localhost:8080/",
          "height": 124
        },
        "id": "9E5mg6oNrRsS",
        "outputId": "aeb09706-3a4b-480f-ead5-fc2a9ab9012e"
      },
      "outputs": [
        {
          "name": "stdout",
          "output_type": "stream",
          "text": [
            "Verifying API Key by listing available models:\n"
          ]
        },
        {
          "name": "stderr",
          "output_type": "stream",
          "text": [
            "E0000 00:00:1759672856.405982 4447472 alts_credentials.cc:93] ALTS creds ignored. Not running on GCP and untrusted ALTS is not enabled.\n"
          ]
        },
        {
          "name": "stdout",
          "output_type": "stream",
          "text": [
            "models/embedding-001\n",
            "models/text-embedding-004\n",
            "models/gemini-embedding-exp-03-07\n",
            "models/gemini-embedding-exp\n",
            "models/gemini-embedding-001\n"
          ]
        }
      ],
      "source": [
        "import google.generativeai as genai\n",
        "\n",
        "# Make sure your key is configured via one of the methods above\n",
        "# genai.configure(api_key=\"...\")\n",
        "\n",
        "# This loop will print available models if your key is valid\n",
        "# It will fail with the same error if the key is still invalid\n",
        "print(\"Verifying API Key by listing available models:\")\n",
        "for m in genai.list_models():\n",
        "  if 'embedContent' in m.supported_generation_methods:\n",
        "    print(m.name)"
      ]
    },
    {
      "cell_type": "code",
      "execution_count": null,
      "metadata": {
        "id": "5l8XiSQTsFeK"
      },
      "outputs": [],
      "source": []
    }
  ],
  "metadata": {
    "colab": {
      "provenance": []
    },
    "kernelspec": {
      "display_name": ".venv",
      "language": "python",
      "name": "python3"
    },
    "language_info": {
      "codemirror_mode": {
        "name": "ipython",
        "version": 3
      },
      "file_extension": ".py",
      "mimetype": "text/x-python",
      "name": "python",
      "nbconvert_exporter": "python",
      "pygments_lexer": "ipython3",
      "version": "3.13.7"
    }
  },
  "nbformat": 4,
  "nbformat_minor": 0
}
